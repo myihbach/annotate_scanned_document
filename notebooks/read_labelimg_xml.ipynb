{
 "cells": [
  {
   "cell_type": "code",
   "execution_count": 1,
   "metadata": {},
   "outputs": [],
   "source": [
    "import json\n",
    "import xmltodict\n"
   ]
  },
  {
   "cell_type": "code",
   "execution_count": 2,
   "metadata": {},
   "outputs": [],
   "source": [
    "with open(\"../test_invoice.xml\") as xml_file:\n",
    "    data_dict = xmltodict.parse(xml_file.read())"
   ]
  },
  {
   "cell_type": "code",
   "execution_count": 8,
   "metadata": {},
   "outputs": [
    {
     "data": {
      "text/plain": [
       "{'folder': 'Desktop',\n",
       " 'filename': 'test_invoice.png',\n",
       " 'path': '/home/myihbach/Desktop/test_invoice.png',\n",
       " 'source': {'database': 'Unknown'},\n",
       " 'size': {'width': '2559', 'height': '3567', 'depth': '1'},\n",
       " 'segmented': '0',\n",
       " 'object': [{'name': 'question',\n",
       "   'pose': 'Unspecified',\n",
       "   'truncated': '0',\n",
       "   'difficult': '0',\n",
       "   'bndbox': {'xmin': '225', 'ymin': '688', 'xmax': '425', 'ymax': '749'}},\n",
       "  {'name': 'answer',\n",
       "   'pose': 'Unspecified',\n",
       "   'truncated': '0',\n",
       "   'difficult': '0',\n",
       "   'bndbox': {'xmin': '664', 'ymin': '683', 'xmax': '1062', 'ymax': '756'}},\n",
       "  {'name': 'question',\n",
       "   'pose': 'Unspecified',\n",
       "   'truncated': '0',\n",
       "   'difficult': '0',\n",
       "   'bndbox': {'xmin': '218', 'ymin': '805', 'xmax': '342', 'ymax': '868'}},\n",
       "  {'name': 'answer',\n",
       "   'pose': 'Unspecified',\n",
       "   'truncated': '0',\n",
       "   'difficult': '0',\n",
       "   'bndbox': {'xmin': '676', 'ymin': '810', 'xmax': '896', 'ymax': '861'}}]}"
      ]
     },
     "execution_count": 8,
     "metadata": {},
     "output_type": "execute_result"
    }
   ],
   "source": [
    "data_dict['annotation']"
   ]
  },
  {
   "cell_type": "code",
   "execution_count": 3,
   "metadata": {},
   "outputs": [
    {
     "name": "stdout",
     "output_type": "stream",
     "text": [
      "question\n",
      "{'xmin': '225', 'ymin': '688', 'xmax': '425', 'ymax': '749'}\n",
      "==========\n",
      "answer\n",
      "{'xmin': '664', 'ymin': '683', 'xmax': '1062', 'ymax': '756'}\n",
      "==========\n",
      "question\n",
      "{'xmin': '218', 'ymin': '805', 'xmax': '342', 'ymax': '868'}\n",
      "==========\n",
      "answer\n",
      "{'xmin': '676', 'ymin': '810', 'xmax': '896', 'ymax': '861'}\n",
      "==========\n"
     ]
    }
   ],
   "source": [
    "for object in data_dict[\"annotation\"]['object']:\n",
    "    print(object['name'])\n",
    "    print(object['bndbox'])\n",
    "    print(\"=\"*10)"
   ]
  },
  {
   "cell_type": "code",
   "execution_count": null,
   "metadata": {},
   "outputs": [],
   "source": []
  }
 ],
 "metadata": {
  "kernelspec": {
   "display_name": "Python 3.8.10 64-bit",
   "language": "python",
   "name": "python3"
  },
  "language_info": {
   "codemirror_mode": {
    "name": "ipython",
    "version": 3
   },
   "file_extension": ".py",
   "mimetype": "text/x-python",
   "name": "python",
   "nbconvert_exporter": "python",
   "pygments_lexer": "ipython3",
   "version": "3.8.10"
  },
  "orig_nbformat": 4,
  "vscode": {
   "interpreter": {
    "hash": "31f2aee4e71d21fbe5cf8b01ff0e069b9275f58929596ceb00d14d90e3e16cd6"
   }
  }
 },
 "nbformat": 4,
 "nbformat_minor": 2
}
